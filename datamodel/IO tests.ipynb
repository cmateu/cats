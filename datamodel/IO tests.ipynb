{
 "cells": [
  {
   "cell_type": "code",
   "execution_count": 14,
   "id": "1b0edaf6",
   "metadata": {},
   "outputs": [],
   "source": [
    "import astropy.table as apt\n",
    "import asdf"
   ]
  },
  {
   "cell_type": "code",
   "execution_count": 2,
   "id": "e192669e",
   "metadata": {},
   "outputs": [],
   "source": [
    "t=apt.Table.read('../../galstreams/galstreams/tracks/track.st.GD-1.pricewhelan2018.ecsv')"
   ]
  },
  {
   "cell_type": "code",
   "execution_count": 3,
   "id": "76f2e338",
   "metadata": {},
   "outputs": [],
   "source": [
    "t2 = apt.Table.read('../../galstreams/galstreams/tracks/track.st.GD-1.pricewhelan2018.summary.ecsv')"
   ]
  },
  {
   "cell_type": "code",
   "execution_count": 4,
   "id": "eb0cfeed",
   "metadata": {},
   "outputs": [],
   "source": [
    "t.write('GD-1.pricewhelan2018.asdf',data_key='track',format='asdf')"
   ]
  },
  {
   "cell_type": "code",
   "execution_count": 5,
   "id": "a08a2d3a",
   "metadata": {},
   "outputs": [],
   "source": [
    "t2.write('GD-1.pricewhelan2018.asdf',data_key='summary',format='asdf')"
   ]
  },
  {
   "cell_type": "code",
   "execution_count": 11,
   "id": "0b93c00d",
   "metadata": {},
   "outputs": [],
   "source": [
    "table_tree = {'track':t, 'summary':t2};"
   ]
  },
  {
   "cell_type": "code",
   "execution_count": 15,
   "id": "b843024d",
   "metadata": {},
   "outputs": [],
   "source": [
    "a = asdf.AsdfFile(table_tree)\n",
    "a.write_to('GD-1.pricewhelan2018.asdf')"
   ]
  },
  {
   "cell_type": "code",
   "execution_count": 17,
   "id": "d3aec651",
   "metadata": {},
   "outputs": [],
   "source": [
    "tt = apt.Table.read('GD-1.pricewhelan2018.asdf',data_key='track')"
   ]
  },
  {
   "cell_type": "code",
   "execution_count": 18,
   "id": "a928d542",
   "metadata": {},
   "outputs": [
    {
     "data": {
      "text/html": [
       "<div><i>Table length=9981</i>\n",
       "<table id=\"table140414314886864\" class=\"table-striped table-bordered table-condensed\">\n",
       "<thead><tr><th>ra</th><th>dec</th><th>distance</th><th>pm_ra_cosdec</th><th>pm_dec</th><th>radial_velocity</th></tr></thead>\n",
       "<thead><tr><th>deg</th><th>deg</th><th>kpc</th><th>mas / yr</th><th>mas / yr</th><th>km / s</th></tr></thead>\n",
       "<thead><tr><th>float64</th><th>float64</th><th>float64</th><th>float64</th><th>float64</th><th>float64</th></tr></thead>\n",
       "<tr><td>124.06463770068025</td><td>-7.970772979891113</td><td>5.508347580561896</td><td>-2.383498192121123</td><td>-7.8564837934212495</td><td>1.9209032938308283e-10</td></tr>\n",
       "<tr><td>124.06831761035305</td><td>-7.961364131101682</td><td>5.508847619996652</td><td>-2.3826762196247464</td><td>-7.858546299089653</td><td>1.9217453705438156e-10</td></tr>\n",
       "<tr><td>124.07199788588385</td><td>-7.951955514401642</td><td>5.50934765943141</td><td>-2.381855751911891</td><td>-7.860608588945513</td><td>1.922840070270699e-10</td></tr>\n",
       "<tr><td>124.07567852719272</td><td>-7.942547129705575</td><td>5.509847698866166</td><td>-2.381036788086513</td><td>-7.8626706627988145</td><td>1.9235558354767381e-10</td></tr>\n",
       "<tr><td>124.07935953419997</td><td>-7.933138976927995</td><td>5.510347738300922</td><td>-2.3802193272529206</td><td>-7.8647325204595075</td><td>1.9247347428749203e-10</td></tr>\n",
       "<tr><td>124.08304090682608</td><td>-7.923731055983467</td><td>5.5108477777356795</td><td>-2.379403368515752</td><td>-7.866794161737621</td><td>1.9254084042453102e-10</td></tr>\n",
       "<tr><td>...</td><td>...</td><td>...</td><td>...</td><td>...</td><td>...</td></tr>\n",
       "<tr><td>219.46816492940604</td><td>58.21276020563042</td><td>10.496240942453255</td><td>-8.446082763661702</td><td>-1.3777435633667787</td><td>2.2477974738124725e-10</td></tr>\n",
       "<tr><td>219.4869805431867</td><td>58.21126629319949</td><td>10.496740981888063</td><td>-8.446061716667492</td><td>-1.3754289756263138</td><td>2.2495237310740964e-10</td></tr>\n",
       "<tr><td>219.50579457215022</td><td>58.20976973429996</td><td>10.497241021322868</td><td>-8.446040814038875</td><td>-1.3731151303922218</td><td>2.2499447694305902e-10</td></tr>\n",
       "<tr><td>219.52460701382307</td><td>58.20827052962207</td><td>10.497741060757676</td><td>-8.446020056712</td><td>-1.3708020278840796</td><td>2.2510394691574735e-10</td></tr>\n",
       "<tr><td>219.543417865734</td><td>58.20676867985678</td><td>10.498241100192482</td><td>-8.445999445623475</td><td>-1.3684896683206653</td><td>2.252134168884357e-10</td></tr>\n",
       "<tr><td>219.56222712541387</td><td>58.20526418569576</td><td>10.498741139627292</td><td>-8.445978981710363</td><td>-1.3661780519199789</td><td>2.2529341417616946e-10</td></tr>\n",
       "</table></div>"
      ],
      "text/plain": [
       "<Table length=9981>\n",
       "        ra                dec         ...    radial_velocity    \n",
       "       deg                deg         ...         km / s        \n",
       "     float64            float64       ...        float64        \n",
       "------------------ ------------------ ... ----------------------\n",
       "124.06463770068025 -7.970772979891113 ... 1.9209032938308283e-10\n",
       "124.06831761035305 -7.961364131101682 ... 1.9217453705438156e-10\n",
       "124.07199788588385 -7.951955514401642 ...  1.922840070270699e-10\n",
       "124.07567852719272 -7.942547129705575 ... 1.9235558354767381e-10\n",
       "124.07935953419997 -7.933138976927995 ... 1.9247347428749203e-10\n",
       "124.08304090682608 -7.923731055983467 ... 1.9254084042453102e-10\n",
       "               ...                ... ...                    ...\n",
       "219.46816492940604  58.21276020563042 ... 2.2477974738124725e-10\n",
       " 219.4869805431867  58.21126629319949 ... 2.2495237310740964e-10\n",
       "219.50579457215022  58.20976973429996 ... 2.2499447694305902e-10\n",
       "219.52460701382307  58.20827052962207 ... 2.2510394691574735e-10\n",
       "  219.543417865734  58.20676867985678 ...  2.252134168884357e-10\n",
       "219.56222712541387  58.20526418569576 ... 2.2529341417616946e-10"
      ]
     },
     "execution_count": 18,
     "metadata": {},
     "output_type": "execute_result"
    }
   ],
   "source": [
    "tt"
   ]
  },
  {
   "cell_type": "code",
   "execution_count": null,
   "id": "c102c7d1",
   "metadata": {},
   "outputs": [],
   "source": []
  }
 ],
 "metadata": {
  "kernelspec": {
   "display_name": "Python 3 (ipykernel)",
   "language": "python",
   "name": "python3"
  },
  "language_info": {
   "codemirror_mode": {
    "name": "ipython",
    "version": 3
   },
   "file_extension": ".py",
   "mimetype": "text/x-python",
   "name": "python",
   "nbconvert_exporter": "python",
   "pygments_lexer": "ipython3",
   "version": "3.8.12"
  }
 },
 "nbformat": 4,
 "nbformat_minor": 5
}
